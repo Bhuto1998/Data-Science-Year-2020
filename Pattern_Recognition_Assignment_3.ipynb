{
  "nbformat": 4,
  "nbformat_minor": 0,
  "metadata": {
    "colab": {
      "name": "Assignment-3.ipynb",
      "provenance": [],
      "authorship_tag": "ABX9TyPYfsUe5B3alzC42o3NajlV",
      "include_colab_link": true
    },
    "kernelspec": {
      "name": "python3",
      "display_name": "Python 3"
    }
  },
  "cells": [
    {
      "cell_type": "markdown",
      "metadata": {
        "id": "view-in-github",
        "colab_type": "text"
      },
      "source": [
        "<a href=\"https://colab.research.google.com/github/Bhuto1998/Data-Science-Year-2020/blob/master/Pattern_Recognition_Assignment_3.ipynb\" target=\"_parent\"><img src=\"https://colab.research.google.com/assets/colab-badge.svg\" alt=\"Open In Colab\"/></a>"
      ]
    },
    {
      "cell_type": "markdown",
      "metadata": {
        "id": "VPe7N510FO0U"
      },
      "source": [
        "# Pattern Recognition Assignment-3\r\n",
        "## Name: Arnab Mukherjee (MB1908)"
      ]
    },
    {
      "cell_type": "code",
      "metadata": {
        "colab": {
          "base_uri": "https://localhost:8080/"
        },
        "id": "mvWIknHeZuXc",
        "outputId": "ae02df84-5119-481e-d9bd-c4dc84d802e5"
      },
      "source": [
        "!pip3 install git+https://github.com/jqmviegas/jqm_cvi.git #pre-requisite for jqmcvi library"
      ],
      "execution_count": 1,
      "outputs": [
        {
          "output_type": "stream",
          "text": [
            "Collecting git+https://github.com/jqmviegas/jqm_cvi.git\n",
            "  Cloning https://github.com/jqmviegas/jqm_cvi.git to /tmp/pip-req-build-y4z66fhk\n",
            "  Running command git clone -q https://github.com/jqmviegas/jqm_cvi.git /tmp/pip-req-build-y4z66fhk\n",
            "Building wheels for collected packages: jqmcvi\n",
            "  Building wheel for jqmcvi (setup.py) ... \u001b[?25l\u001b[?25hdone\n",
            "  Created wheel for jqmcvi: filename=jqmcvi-1.0-cp36-cp36m-linux_x86_64.whl size=239593 sha256=adf6f02ce81d9d224c209c30e9415a392ac2f07f5fefd3c4a19798a756464144\n",
            "  Stored in directory: /tmp/pip-ephem-wheel-cache-ibpshu2n/wheels/ec/f9/1f/83b6273617be116dc8a6c2af1f0b21a953afb4964b1c593b10\n",
            "Successfully built jqmcvi\n",
            "Installing collected packages: jqmcvi\n",
            "Successfully installed jqmcvi-1.0\n"
          ],
          "name": "stdout"
        }
      ]
    },
    {
      "cell_type": "code",
      "metadata": {
        "id": "uADUSv_kFXdY"
      },
      "source": [
        "#importing libraries\r\n",
        "import numpy as np\r\n",
        "import pandas as pd\r\n",
        "import sklearn as sk\r\n",
        "from sklearn.mixture import GaussianMixture\r\n",
        "import jqmcvi \r\n",
        "from jqmcvi import base\r\n",
        "from sklearn.decomposition import PCA as sklearnPCA\r\n",
        "import matplotlib.pyplot as plt\r\n",
        "from sklearn.discriminant_analysis import LinearDiscriminantAnalysis as LDA"
      ],
      "execution_count": 26,
      "outputs": []
    },
    {
      "cell_type": "code",
      "metadata": {
        "id": "fZIV4fIkFhjx"
      },
      "source": [
        "df = pd.read_csv(\"seeds_dataset.txt\",sep=\"\\s+\", #or delim_whitespace=True, #separator is whitespace\r\n",
        "                 header=None)"
      ],
      "execution_count": 3,
      "outputs": []
    },
    {
      "cell_type": "code",
      "metadata": {
        "colab": {
          "base_uri": "https://localhost:8080/",
          "height": 204
        },
        "id": "npdO3VJcGP9A",
        "outputId": "eced0302-964d-43cf-c266-4ae46204b15f"
      },
      "source": [
        "df.head()"
      ],
      "execution_count": 4,
      "outputs": [
        {
          "output_type": "execute_result",
          "data": {
            "text/html": [
              "<div>\n",
              "<style scoped>\n",
              "    .dataframe tbody tr th:only-of-type {\n",
              "        vertical-align: middle;\n",
              "    }\n",
              "\n",
              "    .dataframe tbody tr th {\n",
              "        vertical-align: top;\n",
              "    }\n",
              "\n",
              "    .dataframe thead th {\n",
              "        text-align: right;\n",
              "    }\n",
              "</style>\n",
              "<table border=\"1\" class=\"dataframe\">\n",
              "  <thead>\n",
              "    <tr style=\"text-align: right;\">\n",
              "      <th></th>\n",
              "      <th>0</th>\n",
              "      <th>1</th>\n",
              "      <th>2</th>\n",
              "      <th>3</th>\n",
              "      <th>4</th>\n",
              "      <th>5</th>\n",
              "      <th>6</th>\n",
              "      <th>7</th>\n",
              "    </tr>\n",
              "  </thead>\n",
              "  <tbody>\n",
              "    <tr>\n",
              "      <th>0</th>\n",
              "      <td>15.26</td>\n",
              "      <td>14.84</td>\n",
              "      <td>0.8710</td>\n",
              "      <td>5.763</td>\n",
              "      <td>3.312</td>\n",
              "      <td>2.221</td>\n",
              "      <td>5.220</td>\n",
              "      <td>1</td>\n",
              "    </tr>\n",
              "    <tr>\n",
              "      <th>1</th>\n",
              "      <td>14.88</td>\n",
              "      <td>14.57</td>\n",
              "      <td>0.8811</td>\n",
              "      <td>5.554</td>\n",
              "      <td>3.333</td>\n",
              "      <td>1.018</td>\n",
              "      <td>4.956</td>\n",
              "      <td>1</td>\n",
              "    </tr>\n",
              "    <tr>\n",
              "      <th>2</th>\n",
              "      <td>14.29</td>\n",
              "      <td>14.09</td>\n",
              "      <td>0.9050</td>\n",
              "      <td>5.291</td>\n",
              "      <td>3.337</td>\n",
              "      <td>2.699</td>\n",
              "      <td>4.825</td>\n",
              "      <td>1</td>\n",
              "    </tr>\n",
              "    <tr>\n",
              "      <th>3</th>\n",
              "      <td>13.84</td>\n",
              "      <td>13.94</td>\n",
              "      <td>0.8955</td>\n",
              "      <td>5.324</td>\n",
              "      <td>3.379</td>\n",
              "      <td>2.259</td>\n",
              "      <td>4.805</td>\n",
              "      <td>1</td>\n",
              "    </tr>\n",
              "    <tr>\n",
              "      <th>4</th>\n",
              "      <td>16.14</td>\n",
              "      <td>14.99</td>\n",
              "      <td>0.9034</td>\n",
              "      <td>5.658</td>\n",
              "      <td>3.562</td>\n",
              "      <td>1.355</td>\n",
              "      <td>5.175</td>\n",
              "      <td>1</td>\n",
              "    </tr>\n",
              "  </tbody>\n",
              "</table>\n",
              "</div>"
            ],
            "text/plain": [
              "       0      1       2      3      4      5      6  7\n",
              "0  15.26  14.84  0.8710  5.763  3.312  2.221  5.220  1\n",
              "1  14.88  14.57  0.8811  5.554  3.333  1.018  4.956  1\n",
              "2  14.29  14.09  0.9050  5.291  3.337  2.699  4.825  1\n",
              "3  13.84  13.94  0.8955  5.324  3.379  2.259  4.805  1\n",
              "4  16.14  14.99  0.9034  5.658  3.562  1.355  5.175  1"
            ]
          },
          "metadata": {
            "tags": []
          },
          "execution_count": 4
        }
      ]
    },
    {
      "cell_type": "code",
      "metadata": {
        "colab": {
          "base_uri": "https://localhost:8080/",
          "height": 204
        },
        "id": "u7d1tMzeGsEx",
        "outputId": "4342a9b4-0bff-4809-9aa7-a8c305ff2960"
      },
      "source": [
        "#randomly permute\r\n",
        "df = df.sample(frac = 1.0)\r\n",
        "df.head()"
      ],
      "execution_count": 5,
      "outputs": [
        {
          "output_type": "execute_result",
          "data": {
            "text/html": [
              "<div>\n",
              "<style scoped>\n",
              "    .dataframe tbody tr th:only-of-type {\n",
              "        vertical-align: middle;\n",
              "    }\n",
              "\n",
              "    .dataframe tbody tr th {\n",
              "        vertical-align: top;\n",
              "    }\n",
              "\n",
              "    .dataframe thead th {\n",
              "        text-align: right;\n",
              "    }\n",
              "</style>\n",
              "<table border=\"1\" class=\"dataframe\">\n",
              "  <thead>\n",
              "    <tr style=\"text-align: right;\">\n",
              "      <th></th>\n",
              "      <th>0</th>\n",
              "      <th>1</th>\n",
              "      <th>2</th>\n",
              "      <th>3</th>\n",
              "      <th>4</th>\n",
              "      <th>5</th>\n",
              "      <th>6</th>\n",
              "      <th>7</th>\n",
              "    </tr>\n",
              "  </thead>\n",
              "  <tbody>\n",
              "    <tr>\n",
              "      <th>6</th>\n",
              "      <td>14.69</td>\n",
              "      <td>14.49</td>\n",
              "      <td>0.8799</td>\n",
              "      <td>5.563</td>\n",
              "      <td>3.259</td>\n",
              "      <td>3.586</td>\n",
              "      <td>5.219</td>\n",
              "      <td>1</td>\n",
              "    </tr>\n",
              "    <tr>\n",
              "      <th>168</th>\n",
              "      <td>11.35</td>\n",
              "      <td>13.12</td>\n",
              "      <td>0.8291</td>\n",
              "      <td>5.176</td>\n",
              "      <td>2.668</td>\n",
              "      <td>4.337</td>\n",
              "      <td>5.132</td>\n",
              "      <td>3</td>\n",
              "    </tr>\n",
              "    <tr>\n",
              "      <th>23</th>\n",
              "      <td>12.08</td>\n",
              "      <td>13.23</td>\n",
              "      <td>0.8664</td>\n",
              "      <td>5.099</td>\n",
              "      <td>2.936</td>\n",
              "      <td>1.415</td>\n",
              "      <td>4.961</td>\n",
              "      <td>1</td>\n",
              "    </tr>\n",
              "    <tr>\n",
              "      <th>188</th>\n",
              "      <td>11.23</td>\n",
              "      <td>12.82</td>\n",
              "      <td>0.8594</td>\n",
              "      <td>5.089</td>\n",
              "      <td>2.821</td>\n",
              "      <td>7.524</td>\n",
              "      <td>4.957</td>\n",
              "      <td>3</td>\n",
              "    </tr>\n",
              "    <tr>\n",
              "      <th>159</th>\n",
              "      <td>11.49</td>\n",
              "      <td>13.22</td>\n",
              "      <td>0.8263</td>\n",
              "      <td>5.304</td>\n",
              "      <td>2.695</td>\n",
              "      <td>5.388</td>\n",
              "      <td>5.310</td>\n",
              "      <td>3</td>\n",
              "    </tr>\n",
              "  </tbody>\n",
              "</table>\n",
              "</div>"
            ],
            "text/plain": [
              "         0      1       2      3      4      5      6  7\n",
              "6    14.69  14.49  0.8799  5.563  3.259  3.586  5.219  1\n",
              "168  11.35  13.12  0.8291  5.176  2.668  4.337  5.132  3\n",
              "23   12.08  13.23  0.8664  5.099  2.936  1.415  4.961  1\n",
              "188  11.23  12.82  0.8594  5.089  2.821  7.524  4.957  3\n",
              "159  11.49  13.22  0.8263  5.304  2.695  5.388  5.310  3"
            ]
          },
          "metadata": {
            "tags": []
          },
          "execution_count": 5
        }
      ]
    },
    {
      "cell_type": "code",
      "metadata": {
        "colab": {
          "base_uri": "https://localhost:8080/",
          "height": 204
        },
        "id": "CV58Pb8hG0VB",
        "outputId": "a54bf32b-4dc4-44c0-ab87-3034be5810ef"
      },
      "source": [
        "#Creating the new Dataset\r\n",
        "df2 = df.iloc[:,[0,1,2,3,4,5,6]]\r\n",
        "df2.head()"
      ],
      "execution_count": 6,
      "outputs": [
        {
          "output_type": "execute_result",
          "data": {
            "text/html": [
              "<div>\n",
              "<style scoped>\n",
              "    .dataframe tbody tr th:only-of-type {\n",
              "        vertical-align: middle;\n",
              "    }\n",
              "\n",
              "    .dataframe tbody tr th {\n",
              "        vertical-align: top;\n",
              "    }\n",
              "\n",
              "    .dataframe thead th {\n",
              "        text-align: right;\n",
              "    }\n",
              "</style>\n",
              "<table border=\"1\" class=\"dataframe\">\n",
              "  <thead>\n",
              "    <tr style=\"text-align: right;\">\n",
              "      <th></th>\n",
              "      <th>0</th>\n",
              "      <th>1</th>\n",
              "      <th>2</th>\n",
              "      <th>3</th>\n",
              "      <th>4</th>\n",
              "      <th>5</th>\n",
              "      <th>6</th>\n",
              "    </tr>\n",
              "  </thead>\n",
              "  <tbody>\n",
              "    <tr>\n",
              "      <th>6</th>\n",
              "      <td>14.69</td>\n",
              "      <td>14.49</td>\n",
              "      <td>0.8799</td>\n",
              "      <td>5.563</td>\n",
              "      <td>3.259</td>\n",
              "      <td>3.586</td>\n",
              "      <td>5.219</td>\n",
              "    </tr>\n",
              "    <tr>\n",
              "      <th>168</th>\n",
              "      <td>11.35</td>\n",
              "      <td>13.12</td>\n",
              "      <td>0.8291</td>\n",
              "      <td>5.176</td>\n",
              "      <td>2.668</td>\n",
              "      <td>4.337</td>\n",
              "      <td>5.132</td>\n",
              "    </tr>\n",
              "    <tr>\n",
              "      <th>23</th>\n",
              "      <td>12.08</td>\n",
              "      <td>13.23</td>\n",
              "      <td>0.8664</td>\n",
              "      <td>5.099</td>\n",
              "      <td>2.936</td>\n",
              "      <td>1.415</td>\n",
              "      <td>4.961</td>\n",
              "    </tr>\n",
              "    <tr>\n",
              "      <th>188</th>\n",
              "      <td>11.23</td>\n",
              "      <td>12.82</td>\n",
              "      <td>0.8594</td>\n",
              "      <td>5.089</td>\n",
              "      <td>2.821</td>\n",
              "      <td>7.524</td>\n",
              "      <td>4.957</td>\n",
              "    </tr>\n",
              "    <tr>\n",
              "      <th>159</th>\n",
              "      <td>11.49</td>\n",
              "      <td>13.22</td>\n",
              "      <td>0.8263</td>\n",
              "      <td>5.304</td>\n",
              "      <td>2.695</td>\n",
              "      <td>5.388</td>\n",
              "      <td>5.310</td>\n",
              "    </tr>\n",
              "  </tbody>\n",
              "</table>\n",
              "</div>"
            ],
            "text/plain": [
              "         0      1       2      3      4      5      6\n",
              "6    14.69  14.49  0.8799  5.563  3.259  3.586  5.219\n",
              "168  11.35  13.12  0.8291  5.176  2.668  4.337  5.132\n",
              "23   12.08  13.23  0.8664  5.099  2.936  1.415  4.961\n",
              "188  11.23  12.82  0.8594  5.089  2.821  7.524  4.957\n",
              "159  11.49  13.22  0.8263  5.304  2.695  5.388  5.310"
            ]
          },
          "metadata": {
            "tags": []
          },
          "execution_count": 6
        }
      ]
    },
    {
      "cell_type": "markdown",
      "metadata": {
        "id": "aLOd6bqSJxbp"
      },
      "source": [
        "## Deconvolution of Mixture of Gaussian Densities via EM algorithm"
      ]
    },
    {
      "cell_type": "code",
      "metadata": {
        "colab": {
          "base_uri": "https://localhost:8080/"
        },
        "id": "fDGqOzo8HYFh",
        "outputId": "dc985635-ad2f-4b27-b70e-44fc99282105"
      },
      "source": [
        "#Silhouette Index\r\n",
        "s_val = []\r\n",
        "for k in range(10):\r\n",
        "  model = GaussianMixture(n_components=(k+2), init_params='random')\r\n",
        "  model.fit(df2)\r\n",
        "  yhat = model.predict(df2)\r\n",
        "  s = sk.metrics.silhouette_score(df, yhat)\r\n",
        "  s_val = s_val + [s]\r\n",
        "print(\"Number of Clusters Predicted: \",np.argmax(s_val)+2)"
      ],
      "execution_count": 7,
      "outputs": [
        {
          "output_type": "stream",
          "text": [
            "Number of Clusters Predicted:  2\n"
          ],
          "name": "stdout"
        }
      ]
    },
    {
      "cell_type": "code",
      "metadata": {
        "colab": {
          "base_uri": "https://localhost:8080/"
        },
        "id": "AYRhiA5pLs5R",
        "outputId": "d1bfa50f-0c8e-495c-9e17-b67d550651a8"
      },
      "source": [
        "#Dunn's Index\r\n",
        "s_val = []\r\n",
        "for k in range(10):\r\n",
        "  model = GaussianMixture(n_components=(k+2), init_params='random')\r\n",
        "  model.fit(df2)\r\n",
        "  yhat = model.predict(df2)\r\n",
        "  s = base.dunn_fast(df2, yhat)\r\n",
        "  s_val = s_val + [s]\r\n",
        "print(\"Number of Clusters Predicted: \",np.argmax(s_val)+2)"
      ],
      "execution_count": 9,
      "outputs": [
        {
          "output_type": "stream",
          "text": [
            "Number of Clusters Predicted:  3\n"
          ],
          "name": "stdout"
        }
      ]
    },
    {
      "cell_type": "code",
      "metadata": {
        "id": "8XkgbT64jSjL"
      },
      "source": [
        "# We will take the dunn's index in this case. It predicts that optimal number of cluster is 3\r\n",
        "model = GaussianMixture(n_components=3, init_params='random')\r\n",
        "model.fit(df2)\r\n",
        "y = model.predict(df2)\r\n",
        "df3 = pd.DataFrame(yhat,columns=[\"y\"])\r\n",
        "X = pd.concat([df2,df3],axis = 1)"
      ],
      "execution_count": 23,
      "outputs": []
    },
    {
      "cell_type": "code",
      "metadata": {
        "colab": {
          "base_uri": "https://localhost:8080/",
          "height": 204
        },
        "id": "W3WQPsIMVeZs",
        "outputId": "768dcd55-c4e2-4aa0-d7b7-43f137491034"
      },
      "source": [
        "X.head()"
      ],
      "execution_count": 24,
      "outputs": [
        {
          "output_type": "execute_result",
          "data": {
            "text/html": [
              "<div>\n",
              "<style scoped>\n",
              "    .dataframe tbody tr th:only-of-type {\n",
              "        vertical-align: middle;\n",
              "    }\n",
              "\n",
              "    .dataframe tbody tr th {\n",
              "        vertical-align: top;\n",
              "    }\n",
              "\n",
              "    .dataframe thead th {\n",
              "        text-align: right;\n",
              "    }\n",
              "</style>\n",
              "<table border=\"1\" class=\"dataframe\">\n",
              "  <thead>\n",
              "    <tr style=\"text-align: right;\">\n",
              "      <th></th>\n",
              "      <th>0</th>\n",
              "      <th>1</th>\n",
              "      <th>2</th>\n",
              "      <th>3</th>\n",
              "      <th>4</th>\n",
              "      <th>5</th>\n",
              "      <th>6</th>\n",
              "      <th>y</th>\n",
              "    </tr>\n",
              "  </thead>\n",
              "  <tbody>\n",
              "    <tr>\n",
              "      <th>0</th>\n",
              "      <td>15.26</td>\n",
              "      <td>14.84</td>\n",
              "      <td>0.8710</td>\n",
              "      <td>5.763</td>\n",
              "      <td>3.312</td>\n",
              "      <td>2.221</td>\n",
              "      <td>5.220</td>\n",
              "      <td>2</td>\n",
              "    </tr>\n",
              "    <tr>\n",
              "      <th>1</th>\n",
              "      <td>14.88</td>\n",
              "      <td>14.57</td>\n",
              "      <td>0.8811</td>\n",
              "      <td>5.554</td>\n",
              "      <td>3.333</td>\n",
              "      <td>1.018</td>\n",
              "      <td>4.956</td>\n",
              "      <td>0</td>\n",
              "    </tr>\n",
              "    <tr>\n",
              "      <th>2</th>\n",
              "      <td>14.29</td>\n",
              "      <td>14.09</td>\n",
              "      <td>0.9050</td>\n",
              "      <td>5.291</td>\n",
              "      <td>3.337</td>\n",
              "      <td>2.699</td>\n",
              "      <td>4.825</td>\n",
              "      <td>0</td>\n",
              "    </tr>\n",
              "    <tr>\n",
              "      <th>3</th>\n",
              "      <td>13.84</td>\n",
              "      <td>13.94</td>\n",
              "      <td>0.8955</td>\n",
              "      <td>5.324</td>\n",
              "      <td>3.379</td>\n",
              "      <td>2.259</td>\n",
              "      <td>4.805</td>\n",
              "      <td>0</td>\n",
              "    </tr>\n",
              "    <tr>\n",
              "      <th>4</th>\n",
              "      <td>16.14</td>\n",
              "      <td>14.99</td>\n",
              "      <td>0.9034</td>\n",
              "      <td>5.658</td>\n",
              "      <td>3.562</td>\n",
              "      <td>1.355</td>\n",
              "      <td>5.175</td>\n",
              "      <td>0</td>\n",
              "    </tr>\n",
              "  </tbody>\n",
              "</table>\n",
              "</div>"
            ],
            "text/plain": [
              "       0      1       2      3      4      5      6  y\n",
              "0  15.26  14.84  0.8710  5.763  3.312  2.221  5.220  2\n",
              "1  14.88  14.57  0.8811  5.554  3.333  1.018  4.956  0\n",
              "2  14.29  14.09  0.9050  5.291  3.337  2.699  4.825  0\n",
              "3  13.84  13.94  0.8955  5.324  3.379  2.259  4.805  0\n",
              "4  16.14  14.99  0.9034  5.658  3.562  1.355  5.175  0"
            ]
          },
          "metadata": {
            "tags": []
          },
          "execution_count": 24
        }
      ]
    },
    {
      "cell_type": "code",
      "metadata": {
        "colab": {
          "base_uri": "https://localhost:8080/",
          "height": 265
        },
        "id": "nRjdl85IVp8w",
        "outputId": "743afa8a-a259-4299-a424-b9b07a1b763a"
      },
      "source": [
        "#2D PCA Plots\r\n",
        "X_norm = (X - X.min())/(X.max() - X.min())\r\n",
        "pca = sklearnPCA(n_components=2) #2-dimensional PCA\r\n",
        "transformed = pd.DataFrame(pca.fit_transform(X_norm))\r\n",
        "plt.scatter(transformed[y==0][0], transformed[y==0][1], label='Class 1', c='red')\r\n",
        "plt.scatter(transformed[y==1][0], transformed[y==1][1], label='Class 2', c='blue')\r\n",
        "plt.scatter(transformed[y==2][0], transformed[y==2][1], label='Class 3', c='lightgreen')\r\n",
        "\r\n",
        "plt.legend()\r\n",
        "plt.show()"
      ],
      "execution_count": 25,
      "outputs": [
        {
          "output_type": "display_data",
          "data": {
            "image/png": "[encoded data removed]",
            "text/plain": [
              "<Figure size 432x288 with 1 Axes>"
            ]
          },
          "metadata": {
            "tags": [],
            "needs_background": "light"
          }
        }
      ]
    },
    {
      "cell_type": "code",
      "metadata": {
        "colab": {
          "base_uri": "https://localhost:8080/",
          "height": 265
        },
        "id": "qjodYzxCWuAy",
        "outputId": "db6e55f5-d818-4319-e808-2ad6609cb9dd"
      },
      "source": [
        "#LDA Plots\r\n",
        "lda = LDA(n_components=2) #2-dimensional LDA\r\n",
        "lda_transformed = pd.DataFrame(lda.fit_transform(X_norm, y))\r\n",
        "\r\n",
        "# Plot all three series\r\n",
        "plt.scatter(lda_transformed[y==0][0], lda_transformed[y==0][1], label='Class 1', c='red')\r\n",
        "plt.scatter(lda_transformed[y==1][0], lda_transformed[y==1][1], label='Class 2', c='blue')\r\n",
        "plt.scatter(lda_transformed[y==2][0], lda_transformed[y==2][1], label='Class 3', c='lightgreen')\r\n",
        "\r\n",
        "# Display legend and show plot\r\n",
        "plt.legend(loc=3)\r\n",
        "plt.show()"
      ],
      "execution_count": 28,
      "outputs": [
        {
          "output_type": "display_data",
          "data": {
            "image/png": "[encoded data removed]",
            "text/plain": [
              "<Figure size 432x288 with 1 Axes>"
            ]
          },
          "metadata": {
            "tags": [],
            "needs_background": "light"
          }
        }
      ]
    },
    {
      "cell_type": "markdown",
      "metadata": {
        "id": "T_8fuhzaYTm5"
      },
      "source": [
        "## K-means Clustering:"
      ]
    },
    {
      "cell_type": "code",
      "metadata": {
        "id": "U4UO7s-xYFwC"
      },
      "source": [
        "from sklearn.cluster import KMeans"
      ],
      "execution_count": 29,
      "outputs": []
    },
    {
      "cell_type": "code",
      "metadata": {
        "colab": {
          "base_uri": "https://localhost:8080/"
        },
        "id": "NHgk4M20Ylb4",
        "outputId": "0aaef92f-a47e-4510-e0ec-2fad7b489338"
      },
      "source": [
        "#Silhouette Index\r\n",
        "s_val = []\r\n",
        "for k in range(10):\r\n",
        "  model = KMeans((k+2), random_state=0)\r\n",
        "  model.fit(df2)\r\n",
        "  yhat = model.predict(df2)\r\n",
        "  s = sk.metrics.silhouette_score(df, yhat)\r\n",
        "  s_val = s_val + [s]\r\n",
        "print(\"Number of Clusters Predicted by Silhouette Index: \",np.argmax(s_val)+2)\r\n",
        "\r\n",
        "#Dunn's Index\r\n",
        "s_val = []\r\n",
        "for k in range(10):\r\n",
        "  model = KMeans((k+2), random_state=0)\r\n",
        "  model.fit(df2)\r\n",
        "  yhat = model.predict(df2)\r\n",
        "  s = base.dunn_fast(df2, yhat)\r\n",
        "  s_val = s_val + [s]\r\n",
        "print(\"Number of Clusters Predicted by Dunn's Index: \",np.argmax(s_val)+2)\r\n",
        "data = df2.to_numpy()\r\n",
        "\r\n",
        "\r\n"
      ],
      "execution_count": 31,
      "outputs": [
        {
          "output_type": "stream",
          "text": [
            "Number of Clusters Predicted by Silhouette Index:  2\n",
            "Number of Clusters Predicted by Dunn's Index:  10\n"
          ],
          "name": "stdout"
        }
      ]
    },
    {
      "cell_type": "code",
      "metadata": {
        "colab": {
          "base_uri": "https://localhost:8080/"
        },
        "id": "k0faiOzSZwVG",
        "outputId": "132f20aa-b6f7-44a8-954c-5d032f6c1a2a"
      },
      "source": [
        "def optimalK(data, nrefs=3, maxClusters=15):\r\n",
        "    \"\"\"\r\n",
        "    Calculates KMeans optimal K using Gap Statistic \r\n",
        "    Params:\r\n",
        "        data: ndarry of shape (n_samples, n_features)\r\n",
        "        nrefs: number of sample reference datasets to create\r\n",
        "        maxClusters: Maximum number of clusters to test for\r\n",
        "    Returns: (gaps, optimalK)\r\n",
        "    \"\"\"\r\n",
        "    gaps = np.zeros((len(range(1, maxClusters)),))\r\n",
        "    resultsdf = pd.DataFrame({'clusterCount':[], 'gap':[]})\r\n",
        "    for gap_index, k in enumerate(range(1, maxClusters)):\r\n",
        "# Holder for reference dispersion results\r\n",
        "        refDisps = np.zeros(nrefs)\r\n",
        "# For n references, generate random sample and perform kmeans getting resulting dispersion of each loop\r\n",
        "        for i in range(nrefs):\r\n",
        "            \r\n",
        "            # Create new random reference set\r\n",
        "            randomReference = np.random.random_sample(size=data.shape)\r\n",
        "            \r\n",
        "            # Fit to it\r\n",
        "            km = KMeans(k)\r\n",
        "            km.fit(randomReference)\r\n",
        "            \r\n",
        "            refDisp = km.inertia_\r\n",
        "            refDisps[i] = refDisp\r\n",
        "# Fit cluster to original data and create dispersion\r\n",
        "        km = KMeans(k)\r\n",
        "        km.fit(data)\r\n",
        "        \r\n",
        "        origDisp = km.inertia_\r\n",
        "# Calculate gap statistic\r\n",
        "        gap = np.log(np.mean(refDisps)) - np.log(origDisp)\r\n",
        "# Assign this loop's gap statistic to gaps\r\n",
        "        gaps[gap_index] = gap\r\n",
        "        \r\n",
        "        resultsdf = resultsdf.append({'clusterCount':k, 'gap':gap}, ignore_index=True)\r\n",
        "    return (gaps.argmax() + 1, resultsdf)\r\n",
        "score_g, temp = optimalK(data, nrefs=5, maxClusters=30)\r\n",
        "print(\"Number of Clusters Predicted by Gap Statistics: \",score_g)"
      ],
      "execution_count": 33,
      "outputs": [
        {
          "output_type": "stream",
          "text": [
            "Number of Clusters Predicted by Gap Statistics:  29\n"
          ],
          "name": "stdout"
        }
      ]
    },
    {
      "cell_type": "code",
      "metadata": {
        "colab": {
          "base_uri": "https://localhost:8080/",
          "height": 265
        },
        "id": "DOqUTj4MaL7C",
        "outputId": "76d91d85-a5fa-43d6-be57-3c4fbd191e81"
      },
      "source": [
        "# We will take the Silhouette index in this case. It predicts that optimal number of cluster is 2\r\n",
        "model = KMeans(2, random_state=0)\r\n",
        "model.fit(df2)\r\n",
        "y = model.predict(df2)\r\n",
        "df3 = pd.DataFrame(yhat,columns=[\"y\"])\r\n",
        "X = pd.concat([df2,df3],axis = 1)\r\n",
        "\r\n",
        "#2D PCA Plots\r\n",
        "X_norm = (X - X.min())/(X.max() - X.min())\r\n",
        "pca = sklearnPCA(n_components=2) #2-dimensional PCA\r\n",
        "transformed = pd.DataFrame(pca.fit_transform(X_norm))\r\n",
        "plt.scatter(transformed[y==0][0], transformed[y==0][1], label='Class 1', c='red')\r\n",
        "plt.scatter(transformed[y==1][0], transformed[y==1][1], label='Class 2', c='blue')\r\n",
        "#plt.scatter(transformed[y==2][0], transformed[y==2][1], label='Class 3', c='lightgreen')\r\n",
        "\r\n",
        "plt.legend()\r\n",
        "plt.show()"
      ],
      "execution_count": 36,
      "outputs": [
        {
          "output_type": "display_data",
          "data": {
            "image/png": "[encoded data removed]",
            "text/plain": [
              "<Figure size 432x288 with 1 Axes>"
            ]
          },
          "metadata": {
            "tags": [],
            "needs_background": "light"
          }
        }
      ]
    },
    {
      "cell_type": "markdown",
      "metadata": {
        "id": "w1r6IRHtbWhh"
      },
      "source": [
        "## K-Mediods Clustering"
      ]
    },
    {
      "cell_type": "code",
      "metadata": {
        "colab": {
          "base_uri": "https://localhost:8080/"
        },
        "id": "Pz_glW4vbklz",
        "outputId": "5261c647-7916-48fe-95d4-49bb890c8181"
      },
      "source": [
        "!pip install scikit-learn-extra"
      ],
      "execution_count": 38,
      "outputs": [
        {
          "output_type": "stream",
          "text": [
            "Collecting scikit-learn-extra\n",
            "\u001b[?25l  Downloading https://files.pythonhosted.org/packages/d1/dd/891d2ee7bd18af8f2e1df5d63a52ee96edd0eacc21bb9627072b1c5f6a6c/scikit-learn-extra-0.1.0b2.tar.gz (615kB)\n",
            "\r\u001b[K     |▌                               | 10kB 18.4MB/s eta 0:00:01\r\u001b[K     |█                               | 20kB 14.8MB/s eta 0:00:01\r\u001b[K     |█▋                              | 30kB 9.8MB/s eta 0:00:01\r\u001b[K     |██▏                             | 40kB 8.4MB/s eta 0:00:01\r\u001b[K     |██▋                             | 51kB 4.7MB/s eta 0:00:01\r\u001b[K     |███▏                            | 61kB 5.1MB/s eta 0:00:01\r\u001b[K     |███▊                            | 71kB 5.3MB/s eta 0:00:01\r\u001b[K     |████▎                           | 81kB 5.5MB/s eta 0:00:01\r\u001b[K     |████▉                           | 92kB 5.3MB/s eta 0:00:01\r\u001b[K     |█████▎                          | 102kB 5.8MB/s eta 0:00:01\r\u001b[K     |█████▉                          | 112kB 5.8MB/s eta 0:00:01\r\u001b[K     |██████▍                         | 122kB 5.8MB/s eta 0:00:01\r\u001b[K     |███████                         | 133kB 5.8MB/s eta 0:00:01\r\u001b[K     |███████▌                        | 143kB 5.8MB/s eta 0:00:01\r\u001b[K     |████████                        | 153kB 5.8MB/s eta 0:00:01\r\u001b[K     |████████▌                       | 163kB 5.8MB/s eta 0:00:01\r\u001b[K     |█████████                       | 174kB 5.8MB/s eta 0:00:01\r\u001b[K     |█████████▋                      | 184kB 5.8MB/s eta 0:00:01\r\u001b[K     |██████████▏                     | 194kB 5.8MB/s eta 0:00:01\r\u001b[K     |██████████▋                     | 204kB 5.8MB/s eta 0:00:01\r\u001b[K     |███████████▏                    | 215kB 5.8MB/s eta 0:00:01\r\u001b[K     |███████████▊                    | 225kB 5.8MB/s eta 0:00:01\r\u001b[K     |████████████▎                   | 235kB 5.8MB/s eta 0:00:01\r\u001b[K     |████████████▉                   | 245kB 5.8MB/s eta 0:00:01\r\u001b[K     |█████████████▎                  | 256kB 5.8MB/s eta 0:00:01\r\u001b[K     |█████████████▉                  | 266kB 5.8MB/s eta 0:00:01\r\u001b[K     |██████████████▍                 | 276kB 5.8MB/s eta 0:00:01\r\u001b[K     |███████████████                 | 286kB 5.8MB/s eta 0:00:01\r\u001b[K     |███████████████▌                | 296kB 5.8MB/s eta 0:00:01\r\u001b[K     |████████████████                | 307kB 5.8MB/s eta 0:00:01\r\u001b[K     |████████████████▌               | 317kB 5.8MB/s eta 0:00:01\r\u001b[K     |█████████████████               | 327kB 5.8MB/s eta 0:00:01\r\u001b[K     |█████████████████▋              | 337kB 5.8MB/s eta 0:00:01\r\u001b[K     |██████████████████              | 348kB 5.8MB/s eta 0:00:01\r\u001b[K     |██████████████████▋             | 358kB 5.8MB/s eta 0:00:01\r\u001b[K     |███████████████████▏            | 368kB 5.8MB/s eta 0:00:01\r\u001b[K     |███████████████████▊            | 378kB 5.8MB/s eta 0:00:01\r\u001b[K     |████████████████████▎           | 389kB 5.8MB/s eta 0:00:01\r\u001b[K     |████████████████████▊           | 399kB 5.8MB/s eta 0:00:01\r\u001b[K     |█████████████████████▎          | 409kB 5.8MB/s eta 0:00:01\r\u001b[K     |█████████████████████▉          | 419kB 5.8MB/s eta 0:00:01\r\u001b[K     |██████████████████████▍         | 430kB 5.8MB/s eta 0:00:01\r\u001b[K     |███████████████████████         | 440kB 5.8MB/s eta 0:00:01\r\u001b[K     |███████████████████████▍        | 450kB 5.8MB/s eta 0:00:01\r\u001b[K     |████████████████████████        | 460kB 5.8MB/s eta 0:00:01\r\u001b[K     |████████████████████████▌       | 471kB 5.8MB/s eta 0:00:01\r\u001b[K     |█████████████████████████       | 481kB 5.8MB/s eta 0:00:01\r\u001b[K     |█████████████████████████▋      | 491kB 5.8MB/s eta 0:00:01\r\u001b[K     |██████████████████████████      | 501kB 5.8MB/s eta 0:00:01\r\u001b[K     |██████████████████████████▋     | 512kB 5.8MB/s eta 0:00:01\r\u001b[K     |███████████████████████████▏    | 522kB 5.8MB/s eta 0:00:01\r\u001b[K     |███████████████████████████▊    | 532kB 5.8MB/s eta 0:00:01\r\u001b[K     |████████████████████████████▎   | 542kB 5.8MB/s eta 0:00:01\r\u001b[K     |████████████████████████████▊   | 552kB 5.8MB/s eta 0:00:01\r\u001b[K     |█████████████████████████████▎  | 563kB 5.8MB/s eta 0:00:01\r\u001b[K     |█████████████████████████████▉  | 573kB 5.8MB/s eta 0:00:01\r\u001b[K     |██████████████████████████████▍ | 583kB 5.8MB/s eta 0:00:01\r\u001b[K     |███████████████████████████████ | 593kB 5.8MB/s eta 0:00:01\r\u001b[K     |███████████████████████████████▍| 604kB 5.8MB/s eta 0:00:01\r\u001b[K     |████████████████████████████████| 614kB 5.8MB/s eta 0:00:01\r\u001b[K     |████████████████████████████████| 624kB 5.8MB/s \n",
            "\u001b[?25h  Installing build dependencies ... \u001b[?25l\u001b[?25hdone\n",
            "  Getting requirements to build wheel ... \u001b[?25l\u001b[?25hdone\n",
            "    Preparing wheel metadata ... \u001b[?25l\u001b[?25hdone\n",
            "Requirement already satisfied: numpy>=1.13.3 in /usr/local/lib/python3.6/dist-packages (from scikit-learn-extra) (1.19.4)\n",
            "Requirement already satisfied: scipy>=0.19.1 in /usr/local/lib/python3.6/dist-packages (from scikit-learn-extra) (1.4.1)\n",
            "Requirement already satisfied: scikit-learn>=0.21.0 in /usr/local/lib/python3.6/dist-packages (from scikit-learn-extra) (0.22.2.post1)\n",
            "Requirement already satisfied: joblib>=0.11 in /usr/local/lib/python3.6/dist-packages (from scikit-learn>=0.21.0->scikit-learn-extra) (1.0.0)\n",
            "Building wheels for collected packages: scikit-learn-extra\n",
            "  Building wheel for scikit-learn-extra (PEP 517) ... \u001b[?25l\u001b[?25hdone\n",
            "  Created wheel for scikit-learn-extra: filename=scikit_learn_extra-0.1.0b2-cp36-cp36m-linux_x86_64.whl size=339562 sha256=be8a4ce33223e78556a1815279eebbfd6df25ade27dfca7c223fa8880c08025b\n",
            "  Stored in directory: /root/.cache/pip/wheels/04/01/0f/943bffb48bac048fa216b4325f1a6c939491ccb0ff500e08f4\n",
            "Successfully built scikit-learn-extra\n",
            "Installing collected packages: scikit-learn-extra\n",
            "Successfully installed scikit-learn-extra-0.1.0b2\n"
          ],
          "name": "stdout"
        }
      ]
    },
    {
      "cell_type": "code",
      "metadata": {
        "id": "YSKoAJ0Wa3-R"
      },
      "source": [
        "from sklearn_extra.cluster import KMedoids"
      ],
      "execution_count": 39,
      "outputs": []
    },
    {
      "cell_type": "code",
      "metadata": {
        "colab": {
          "base_uri": "https://localhost:8080/"
        },
        "id": "J4j1R1JzbZsJ",
        "outputId": "280bafd8-8f0f-4de8-9692-138d6f2fc2d6"
      },
      "source": [
        "#Silhouette Index\r\n",
        "s_val = []\r\n",
        "for k in range(10):\r\n",
        "  model = KMedoids((k+2), random_state=0)\r\n",
        "  model.fit(df2)\r\n",
        "  yhat = model.predict(df2)\r\n",
        "  s = sk.metrics.silhouette_score(df, yhat)\r\n",
        "  s_val = s_val + [s]\r\n",
        "print(\"Number of Clusters Predicted by Silhouette Index: \",np.argmax(s_val)+2)\r\n",
        "\r\n",
        "#Dunn's Index\r\n",
        "s_val = []\r\n",
        "for k in range(10):\r\n",
        "  model = KMedoids((k+2), random_state=0)\r\n",
        "  model.fit(df2)\r\n",
        "  yhat = model.predict(df2)\r\n",
        "  s = base.dunn_fast(df2, yhat)\r\n",
        "  s_val = s_val + [s]\r\n",
        "print(\"Number of Clusters Predicted by Dunn's Index: \",np.argmax(s_val)+2)"
      ],
      "execution_count": 40,
      "outputs": [
        {
          "output_type": "stream",
          "text": [
            "Number of Clusters Predicted by Silhouette Index:  2\n",
            "Number of Clusters Predicted by Dunn's Index:  8\n"
          ],
          "name": "stdout"
        }
      ]
    },
    {
      "cell_type": "code",
      "metadata": {
        "colab": {
          "base_uri": "https://localhost:8080/",
          "height": 265
        },
        "id": "n4sbB-r8b0fJ",
        "outputId": "af8fcc54-83c9-41b9-d221-b6e42d4df17c"
      },
      "source": [
        "# We will take the Silhouette index in this case. It predicts that optimal number of cluster is 2\r\n",
        "model = KMedoids(2, random_state=0)\r\n",
        "model.fit(df2)\r\n",
        "y = model.predict(df2)\r\n",
        "df3 = pd.DataFrame(yhat,columns=[\"y\"])\r\n",
        "X = pd.concat([df2,df3],axis = 1)\r\n",
        "\r\n",
        "#2D PCA Plots\r\n",
        "X_norm = (X - X.min())/(X.max() - X.min())\r\n",
        "pca = sklearnPCA(n_components=2) #2-dimensional PCA\r\n",
        "transformed = pd.DataFrame(pca.fit_transform(X_norm))\r\n",
        "plt.scatter(transformed[y==0][0], transformed[y==0][1], label='Class 1', c='red')\r\n",
        "plt.scatter(transformed[y==1][0], transformed[y==1][1], label='Class 2', c='blue')\r\n",
        "#plt.scatter(transformed[y==2][0], transformed[y==2][1], label='Class 3', c='lightgreen')\r\n",
        "\r\n",
        "plt.legend()\r\n",
        "plt.show()"
      ],
      "execution_count": 41,
      "outputs": [
        {
          "output_type": "display_data",
          "data": {
            "image/png": "[encoded data removed]",
            "text/plain": [
              "<Figure size 432x288 with 1 Axes>"
            ]
          },
          "metadata": {
            "tags": [],
            "needs_background": "light"
          }
        }
      ]
    },
    {
      "cell_type": "markdown",
      "metadata": {
        "id": "U41sMvFScJEc"
      },
      "source": [
        "## Single Linkage Algorithm"
      ]
    },
    {
      "cell_type": "code",
      "metadata": {
        "id": "xtgbHvVycD-I"
      },
      "source": [
        "from scipy.cluster.hierarchy import dendrogram, linkage"
      ],
      "execution_count": 42,
      "outputs": []
    },
    {
      "cell_type": "code",
      "metadata": {
        "colab": {
          "base_uri": "https://localhost:8080/",
          "height": 591
        },
        "id": "_zRDWI6xdBMJ",
        "outputId": "ccd23519-3b7b-4790-bbb9-a1a8b2760285"
      },
      "source": [
        "Z = linkage(data, 'single')\r\n",
        "fig = plt.figure(figsize=(25, 10))\r\n",
        "dn = dendrogram(Z)\r\n",
        "plt.show()"
      ],
      "execution_count": 43,
      "outputs": [
        {
          "output_type": "display_data",
          "data": {
            "image/png": "[encoded data removed]",
            "text/plain": [
              "<Figure size 1800x720 with 1 Axes>"
            ]
          },
          "metadata": {
            "tags": [],
            "needs_background": "light"
          }
        }
      ]
    },
    {
      "cell_type": "markdown",
      "metadata": {
        "id": "7moZTkd-dL4V"
      },
      "source": [
        "## Complete Linkage "
      ]
    },
    {
      "cell_type": "code",
      "metadata": {
        "colab": {
          "base_uri": "https://localhost:8080/",
          "height": 591
        },
        "id": "FQbLjKROdHT5",
        "outputId": "c0ef4ae5-b1af-46d7-eb2b-160d9c7b5744"
      },
      "source": [
        "Z = linkage(data, 'complete')\r\n",
        "fig = plt.figure(figsize=(25, 10))\r\n",
        "dn = dendrogram(Z)\r\n",
        "plt.show()"
      ],
      "execution_count": 44,
      "outputs": [
        {
          "output_type": "display_data",
          "data": {
            "image/png": "[encoded data removed]",
            "text/plain": [
              "<Figure size 1800x720 with 1 Axes>"
            ]
          },
          "metadata": {
            "tags": [],
            "needs_background": "light"
          }
        }
      ]
    },
    {
      "cell_type": "markdown",
      "metadata": {
        "id": "a4V88fMbdnMt"
      },
      "source": [
        "## DBSCAN \r\n",
        "I will evaluate epsilon value using the method mentioned in the following paper: https://iopscience.iop.org/article/10.1088/1755-1315/31/1/012012/pdf. \r\n",
        "In layman’s terms, we find a suitable value for epsilon by calculating the distance to the nearest n points for each point, sorting and plotting the results. Then we look to see where the change is most pronounced and select that as epsilon"
      ]
    },
    {
      "cell_type": "code",
      "metadata": {
        "id": "T23Z20bwddbA"
      },
      "source": [
        "from sklearn.neighbors import NearestNeighbors\r\n",
        "from sklearn.cluster import DBSCAN\r\n",
        "import seaborn as sns\r\n",
        "sns.set()"
      ],
      "execution_count": 45,
      "outputs": []
    },
    {
      "cell_type": "code",
      "metadata": {
        "colab": {
          "base_uri": "https://localhost:8080/",
          "height": 285
        },
        "id": "jcrKm5SfeRVx",
        "outputId": "90f3aee6-fba8-4bc3-9084-d4c0f11156d8"
      },
      "source": [
        "neigh = NearestNeighbors(n_neighbors=2)\r\n",
        "nbrs = neigh.fit(data)\r\n",
        "distances, indices = nbrs.kneighbors(data)\r\n",
        "distances = np.sort(distances, axis=0)\r\n",
        "distances = distances[:,1]\r\n",
        "plt.plot(distances)"
      ],
      "execution_count": 46,
      "outputs": [
        {
          "output_type": "execute_result",
          "data": {
            "text/plain": [
              "[<matplotlib.lines.Line2D at 0x7fc4af69f908>]"
            ]
          },
          "metadata": {
            "tags": []
          },
          "execution_count": 46
        },
        {
          "output_type": "display_data",
          "data": {
            "image/png": "[encoded data removed]",
            "text/plain": [
              "<Figure size 432x288 with 1 Axes>"
            ]
          },
          "metadata": {
            "tags": []
          }
        }
      ]
    },
    {
      "cell_type": "code",
      "metadata": {
        "colab": {
          "base_uri": "https://localhost:8080/"
        },
        "id": "6D6Dh-leeg7R",
        "outputId": "08a7c3f6-d492-4190-c5f0-4bf0c9b34234"
      },
      "source": [
        "#Take epsilon = 0.6\r\n",
        "m = DBSCAN(eps=0.6, min_samples=5)\r\n",
        "m.fit(df2)\r\n",
        "y = m.labels_\r\n",
        "np.unique(y)"
      ],
      "execution_count": 51,
      "outputs": [
        {
          "output_type": "execute_result",
          "data": {
            "text/plain": [
              "array([-1,  0,  1,  2,  3,  4,  5,  6,  7])"
            ]
          },
          "metadata": {
            "tags": []
          },
          "execution_count": 51
        }
      ]
    },
    {
      "cell_type": "code",
      "metadata": {
        "colab": {
          "base_uri": "https://localhost:8080/",
          "height": 268
        },
        "id": "Y6fisX0HfIgw",
        "outputId": "dded1ed8-4d62-4581-c37b-ecf4a19228f9"
      },
      "source": [
        "#2D PCA Plots\r\n",
        "X_norm = (X - X.min())/(X.max() - X.min())\r\n",
        "pca = sklearnPCA(n_components=2) #2-dimensional PCA\r\n",
        "transformed = pd.DataFrame(pca.fit_transform(X_norm))\r\n",
        "plt.scatter(transformed[y==0][0], transformed[y==0][1], label='Class 1', c='red')\r\n",
        "plt.scatter(transformed[y==1][0], transformed[y==1][1], label='Class 2', c='blue')\r\n",
        "plt.scatter(transformed[y==2][0], transformed[y==2][1], label='Class 3', c='lightgreen')\r\n",
        "plt.scatter(transformed[y==3][0], transformed[y==3][1], label='Class 4', c='royalblue')\r\n",
        "plt.scatter(transformed[y==4][0], transformed[y==4][1], label='Class 5', c='goldenrod')\r\n",
        "plt.scatter(transformed[y==5][0], transformed[y==5][1], label='Class 6', c='mediumorchid')\r\n",
        "plt.scatter(transformed[y==6][0], transformed[y==6][1], label='Class 7', c='deeppink')\r\n",
        "plt.scatter(transformed[y==7][0], transformed[y==7][1], label='Class 8', c='tan')\r\n",
        "plt.scatter(transformed[y==-1][0], transformed[y==-1][1], label='Class 9', c='navy')\r\n",
        "\r\n",
        "plt.legend()\r\n",
        "plt.show()"
      ],
      "execution_count": 54,
      "outputs": [
        {
          "output_type": "display_data",
          "data": {
            "image/png": "[encoded data removed]",
            "text/plain": [
              "<Figure size 432x288 with 1 Axes>"
            ]
          },
          "metadata": {
            "tags": []
          }
        }
      ]
    },
    {
      "cell_type": "markdown",
      "metadata": {
        "id": "H4UAouAagUt0"
      },
      "source": [
        "## Optics\r\n",
        "Again here we will use the exact same selection criteria as DBSCAN. Hence our epsilon value will be = 0.6"
      ]
    },
    {
      "cell_type": "code",
      "metadata": {
        "id": "CIKKQ1PBfKs4"
      },
      "source": [
        "from sklearn.cluster import OPTICS"
      ],
      "execution_count": 55,
      "outputs": []
    },
    {
      "cell_type": "code",
      "metadata": {
        "colab": {
          "base_uri": "https://localhost:8080/"
        },
        "id": "cHv9dyI_gyxJ",
        "outputId": "60be9866-6d94-4396-db0d-e4a67923a7b6"
      },
      "source": [
        "clustering = OPTICS(min_samples=5, max_eps=0.6).fit(df2)\r\n",
        "y = clustering.labels_\r\n",
        "np.unique(y)"
      ],
      "execution_count": 56,
      "outputs": [
        {
          "output_type": "execute_result",
          "data": {
            "text/plain": [
              "array([-1,  0,  1,  2,  3,  4,  5])"
            ]
          },
          "metadata": {
            "tags": []
          },
          "execution_count": 56
        }
      ]
    },
    {
      "cell_type": "code",
      "metadata": {
        "colab": {
          "base_uri": "https://localhost:8080/",
          "height": 268
        },
        "id": "6-IrLadag_GB",
        "outputId": "95cf2e8e-ea83-4b6e-f1a6-f55aa400aab3"
      },
      "source": [
        "#2D PCA Plots\r\n",
        "X_norm = (X - X.min())/(X.max() - X.min())\r\n",
        "pca = sklearnPCA(n_components=2) #2-dimensional PCA\r\n",
        "transformed = pd.DataFrame(pca.fit_transform(X_norm))\r\n",
        "plt.scatter(transformed[y==0][0], transformed[y==0][1], label='Class 1', c='red')\r\n",
        "plt.scatter(transformed[y==1][0], transformed[y==1][1], label='Class 2', c='blue')\r\n",
        "plt.scatter(transformed[y==2][0], transformed[y==2][1], label='Class 3', c='lightgreen')\r\n",
        "plt.scatter(transformed[y==3][0], transformed[y==3][1], label='Class 4', c='royalblue')\r\n",
        "plt.scatter(transformed[y==4][0], transformed[y==4][1], label='Class 5', c='goldenrod')\r\n",
        "plt.scatter(transformed[y==5][0], transformed[y==5][1], label='Class 6', c='mediumorchid')\r\n",
        "plt.scatter(transformed[y==-1][0], transformed[y==-1][1], label='Class 7', c='deeppink')\r\n",
        "#plt.scatter(transformed[y==7][0], transformed[y==7][1], label='Class 8', c='tan')\r\n",
        "#plt.scatter(transformed[y==-1][0], transformed[y==-1][1], label='Class 9', c='navy')\r\n",
        "\r\n",
        "plt.legend()\r\n",
        "plt.show()"
      ],
      "execution_count": 58,
      "outputs": [
        {
          "output_type": "display_data",
          "data": {
            "image/png": "[encoded data removed]",
            "text/plain": [
              "<Figure size 432x288 with 1 Axes>"
            ]
          },
          "metadata": {
            "tags": []
          }
        }
      ]
    },
    {
      "cell_type": "markdown",
      "metadata": {
        "id": "5kBuu35ghbmy"
      },
      "source": [
        "## Comparison:\r\n",
        "Using EM algorithm"
      ]
    },
    {
      "cell_type": "code",
      "metadata": {
        "id": "7rI0iuLVhPJJ"
      },
      "source": [
        "model = GaussianMixture(n_components=3, init_params='random')\r\n",
        "model.fit(df2)\r\n",
        "ypred = model.predict(df2)\r\n",
        "y = df.iloc[:,[7]].values"
      ],
      "execution_count": 62,
      "outputs": []
    },
    {
      "cell_type": "code",
      "metadata": {
        "id": "E9NrNbxShzdJ"
      },
      "source": [
        "ytest = []\r\n",
        "for i in range(len(y)):\r\n",
        "  ytest = ytest + [y[i][0]]\r\n",
        "  "
      ],
      "execution_count": 66,
      "outputs": []
    },
    {
      "cell_type": "code",
      "metadata": {
        "id": "MJ8-UEiQiOwh"
      },
      "source": [
        "ytest = np.subtract(ytest,1)"
      ],
      "execution_count": 68,
      "outputs": []
    },
    {
      "cell_type": "code",
      "metadata": {
        "colab": {
          "base_uri": "https://localhost:8080/"
        },
        "id": "yMxEfHLUiWoZ",
        "outputId": "bf73a2e2-98d3-4586-b87d-91be8c9cc180"
      },
      "source": [
        "#Computing Purity\r\n",
        "from sklearn import metrics\r\n",
        "\r\n",
        "def purity_score(y_true, y_pred):\r\n",
        "    # compute contingency matrix (also called confusion matrix)\r\n",
        "    contingency_matrix = metrics.cluster.contingency_matrix(y_true, y_pred)\r\n",
        "    # return purity\r\n",
        "    return np.sum(np.amax(contingency_matrix, axis=0)) / np.sum(contingency_matrix) \r\n",
        "purity_score(ytest,ypred)"
      ],
      "execution_count": 72,
      "outputs": [
        {
          "output_type": "execute_result",
          "data": {
            "text/plain": [
              "0.6571428571428571"
            ]
          },
          "metadata": {
            "tags": []
          },
          "execution_count": 72
        }
      ]
    },
    {
      "cell_type": "code",
      "metadata": {
        "colab": {
          "base_uri": "https://localhost:8080/"
        },
        "id": "iQl1Fgjnivjx",
        "outputId": "57dffb5c-a1f6-42c5-94b4-b49de566b7be"
      },
      "source": [
        "#Computing Normalized Mutual Information\r\n",
        "from sklearn.metrics.cluster import normalized_mutual_info_score\r\n",
        "normalized_mutual_info_score(ytest,ypred)"
      ],
      "execution_count": 73,
      "outputs": [
        {
          "output_type": "execute_result",
          "data": {
            "text/plain": [
              "0.4635463915721868"
            ]
          },
          "metadata": {
            "tags": []
          },
          "execution_count": 73
        }
      ]
    },
    {
      "cell_type": "code",
      "metadata": {
        "id": "jaO90gtdkF8L"
      },
      "source": [
        ""
      ],
      "execution_count": null,
      "outputs": []
    }
  ]
}