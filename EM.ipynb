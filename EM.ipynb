{
  "nbformat": 4,
  "nbformat_minor": 0,
  "metadata": {
    "colab": {
      "name": "EM.ipynb",
      "provenance": [],
      "authorship_tag": "ABX9TyMhjnErg2e/qqMb3SwTPkmj",
      "include_colab_link": true
    },
    "kernelspec": {
      "name": "python3",
      "display_name": "Python 3"
    }
  },
  "cells": [
    {
      "cell_type": "markdown",
      "metadata": {
        "id": "view-in-github",
        "colab_type": "text"
      },
      "source": [
        "<a href=\"https://colab.research.google.com/github/Bhuto1998/Data-Science-Year-2020/blob/master/EM.ipynb\" target=\"_parent\"><img src=\"https://colab.research.google.com/assets/colab-badge.svg\" alt=\"Open In Colab\"/></a>"
      ]
    },
    {
      "cell_type": "markdown",
      "metadata": {
        "id": "JvgCMvr8_cwH"
      },
      "source": [
        "# EM Algorithm:\r\n",
        "The expectation-maximization algorithm is an approach for performing maximum likelihood estimation in the presence of latent variables. It does this by first estimating the values for the latent variables, then optimizing the model, then repeating these two steps until convergence. It is an effective and general approach and is most commonly used for density estimation with missing data, such as clustering algorithms like the Gaussian Mixture Model.\r\n",
        "\r\n",
        "### Problem of Latent Variables for Maximum Likelihood:\r\n",
        "A common modeling problem involves how to estimate a joint probability distribution for a dataset.\r\n",
        "\r\n",
        "Density estimation involves selecting a probability distribution function and the parameters of that distribution that best explain the joint probability distribution of the observed data.\r\n",
        "\r\n",
        "There are many techniques for solving this problem, although a common approach is called maximum likelihood estimation, or simply “maximum likelihood.”\r\n",
        "\r\n",
        "Maximum Likelihood Estimation involves treating the problem as an optimization or search problem, where we seek a set of parameters that results in the best fit for the joint probability of the data sample.\r\n",
        "\r\n",
        "A limitation of maximum likelihood estimation is that it assumes that the dataset is complete, or fully observed. This does not mean that the model has access to all data; instead, it assumes that all variables that are relevant to the problem are present.\r\n",
        "\r\n",
        "This is not always the case. There may be datasets where only some of the relevant variables can be observed, and some cannot, and although they influence other random variables in the dataset, they remain hidden.\r\n",
        "\r\n",
        "More generally, these unobserved or hidden variables are referred to as latent variables.\r\n",
        "\r\n",
        "### Expectation-Maximization Algorithm:\r\n",
        "The Expectation-Maximization Algorithm, or EM algorithm for short, is an approach for maximum likelihood estimation in the presence of latent variables.\r\n",
        "\r\n",
        "The EM algorithm is an iterative approach that cycles between two modes. The first mode attempts to estimate the missing or latent variables, called the estimation-step or E-step. The second mode attempts to optimize the parameters of the model to best explain the data, called the maximization-step or M-step.\r\n",
        "\r\n",
        "* E-Step. Estimate the missing variables in the dataset.\r\n",
        "* M-Step. Maximize the parameters of the model in the presence of the data. <br>\r\n",
        "\r\n",
        "The EM algorithm can be applied quite widely, although is perhaps most well known in machine learning for use in unsupervised learning problems, such as density estimation and clustering.\r\n",
        "\r\n",
        "Perhaps the most discussed application of the EM algorithm is for clustering with a mixture model.\r\n",
        "\r\n",
        "\r\n",
        "\r\n",
        "\r\n"
      ]
    },
    {
      "cell_type": "code",
      "metadata": {
        "id": "eOEa7cu1JP2Q"
      },
      "source": [
        "from numpy import hstack\r\n",
        "from numpy.random import normal\r\n",
        "from matplotlib import pyplot\r\n",
        "\r\n",
        "# Generating guassian mixture data\r\n",
        "X1 = normal(loc = 20, scale = 5, size = 3000)\r\n",
        "X2 = normal(loc = 40 , scale = 5, size = 7000)\r\n",
        "X = hstack((X1, X2))"
      ],
      "execution_count": 1,
      "outputs": []
    },
    {
      "cell_type": "code",
      "metadata": {
        "colab": {
          "base_uri": "https://localhost:8080/",
          "height": 269
        },
        "id": "GEuSxsTAJoQn",
        "outputId": "62f59865-e66b-46c7-aa0c-5d9e293ff090"
      },
      "source": [
        "# plot the histogram\r\n",
        "pyplot.hist(X, bins=50, density=True)\r\n",
        "pyplot.show()"
      ],
      "execution_count": 2,
      "outputs": [
        {
          "output_type": "display_data",
          "data": {
            "image/png": "[encoded data removed]",
            "text/plain": [
              "<Figure size 432x288 with 1 Axes>"
            ]
          },
          "metadata": {
            "tags": [],
            "needs_background": "light"
          }
        }
      ]
    },
    {
      "cell_type": "code",
      "metadata": {
        "colab": {
          "base_uri": "https://localhost:8080/"
        },
        "id": "_pX4ThhtJ5dv",
        "outputId": "5e48b059-07e0-4e77-d5fb-a390c85b66a3"
      },
      "source": [
        "from sklearn.mixture import GaussianMixture\r\n",
        "X = X.reshape((len(X), 1))\r\n",
        "# fit model\r\n",
        "model = GaussianMixture(n_components=2, init_params='random')\r\n",
        "model.fit(X)\r\n",
        "# predict latent values\r\n",
        "yhat = model.predict(X)\r\n",
        "# check latent value for first few points\r\n",
        "print(yhat[:100])\r\n",
        "# check latent value for last few points\r\n",
        "print(yhat[-100:])"
      ],
      "execution_count": 4,
      "outputs": [
        {
          "output_type": "stream",
          "text": [
            "[1 1 1 1 1 1 1 1 1 1 1 1 1 1 1 1 1 1 1 1 1 1 1 1 1 1 1 1 1 1 1 1 1 1 1 1 1\n",
            " 1 1 1 1 1 1 1 1 1 1 1 1 1 1 1 1 1 1 1 1 1 1 1 1 1 1 1 1 1 1 1 1 1 1 1 1 1\n",
            " 1 1 1 1 1 1 1 1 1 1 1 1 1 1 1 1 1 1 1 1 1 1 1 1 1 1]\n",
            "[1 1 1 1 1 1 1 1 1 1 1 1 1 1 1 1 1 1 1 1 1 1 1 1 1 1 1 1 1 1 1 1 1 1 1 1 1\n",
            " 1 1 1 1 1 1 1 1 1 1 1 1 1 1 1 1 1 1 1 1 1 1 1 1 1 1 1 1 1 1 1 1 1 1 1 1 1\n",
            " 1 1 1 1 1 1 1 1 1 1 1 1 1 1 1 1 1 1 1 1 1 1 1 1 1 1]\n"
          ],
          "name": "stdout"
        }
      ]
    },
    {
      "cell_type": "markdown",
      "metadata": {
        "id": "Jpu2tn3yKgY-"
      },
      "source": [
        "Running the example fits the Gaussian mixture model on the prepared dataset using the EM algorithm. Once fit, the model is used to predict the latent variable values for the examples in the training dataset."
      ]
    },
    {
      "cell_type": "code",
      "metadata": {
        "id": "Bg8mydXJKZjf"
      },
      "source": [
        ""
      ],
      "execution_count": null,
      "outputs": []
    }
  ]
}